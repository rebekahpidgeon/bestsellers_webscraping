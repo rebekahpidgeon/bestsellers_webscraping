{
 "cells": [
  {
   "cell_type": "code",
   "execution_count": 3,
   "id": "e951b6c4-f2f2-40de-b14e-072b49dbb556",
   "metadata": {},
   "outputs": [],
   "source": [
    "import csv\n",
    "from bs4 import BeautifulSoup as bs\n",
    "import requests\n",
    "url = \"https://www.bookdepository.com/bestsellers\"\n",
    "response = requests.get(url)"
   ]
  },
  {
   "cell_type": "code",
   "execution_count": 4,
   "id": "bb5f2584-33d0-44ee-80e5-020626b2966e",
   "metadata": {},
   "outputs": [],
   "source": [
    "html = response.content\n",
    "soup = bs(html, \"lxml\")"
   ]
  },
  {
   "cell_type": "code",
   "execution_count": 45,
   "id": "704f72a2-f427-4fa6-9167-7892cd7c8f4d",
   "metadata": {},
   "outputs": [
    {
     "name": "stdout",
     "output_type": "stream",
     "text": [
      "[]\n"
     ]
    }
   ],
   "source": [
    "item_infos = soup.find_all(\"div\", class_=\"item-info\")\n",
    "with open(\"DataSheet.csv\", \"r\", newline=\"\") as readData:\n",
    "    csv_reader = csv.reader(readData)\n",
    "    readingData = []\n",
    "    for row in csv_reader:\n",
    "        readingData.append(row)\n",
    "    \n",
    "with open(\"DataSheet.csv\",\"a+\", newline=\"\") as dataSheet:\n",
    "    csv_writer=csv.writer(dataSheet)\n",
    "    rows = []\n",
    "    for info in item_infos:\n",
    "        temp_row = []\n",
    "        title = info.find(\"h3\", class_=\"title\").get_text().strip()\n",
    "        date = info.find(\"p\", class_=\"published\").get_text()[-4:].strip()\n",
    "        author = info.find(\"p\", class_=\"author\").get_text().strip()\n",
    "        temp_row = [title, date, author]\n",
    "        if temp_row not in readingData:\n",
    "            rows.append(temp_row)\n",
    "    print(rows)\n",
    "    if rows != []:\n",
    "        csv_writer.writerows(rows)"
   ]
  },
  {
   "cell_type": "code",
   "execution_count": null,
   "id": "f8c90931-3fe0-424b-a67c-f8f4c1725df4",
   "metadata": {},
   "outputs": [],
   "source": []
  },
  {
   "cell_type": "code",
   "execution_count": null,
   "id": "e393df70-8f14-4ae1-ab6d-c90d3022589a",
   "metadata": {},
   "outputs": [],
   "source": []
  }
 ],
 "metadata": {
  "kernelspec": {
   "display_name": "Python 3",
   "language": "python",
   "name": "python3"
  },
  "language_info": {
   "codemirror_mode": {
    "name": "ipython",
    "version": 3
   },
   "file_extension": ".py",
   "mimetype": "text/x-python",
   "name": "python",
   "nbconvert_exporter": "python",
   "pygments_lexer": "ipython3",
   "version": "3.8.8"
  }
 },
 "nbformat": 4,
 "nbformat_minor": 5
}
